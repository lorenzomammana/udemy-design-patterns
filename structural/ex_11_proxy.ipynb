{
 "cells": [
  {
   "attachments": {},
   "cell_type": "markdown",
   "metadata": {},
   "source": [
    "You are given the Person  class and asked to write a ResponsiblePerson  proxy that does the following:\n",
    "\n",
    "    Allows person to drink unless they are younger than 18 (in that case, return \"too young\")\n",
    "\n",
    "    Allows person to drive unless they are younger than 16 (otherwise, \"too young\")\n",
    "\n",
    "    In case of driving while drink, returns \"dead\", regardless of age"
   ]
  },
  {
   "cell_type": "code",
   "execution_count": 1,
   "metadata": {},
   "outputs": [],
   "source": [
    "class Person:\n",
    "    def __init__(self, age):\n",
    "        self.age = age\n",
    "\n",
    "    def drink(self):\n",
    "        return \"drinking\"\n",
    "\n",
    "    def drive(self):\n",
    "        return \"driving\"\n",
    "\n",
    "    def drink_and_drive(self):\n",
    "        return \"driving while drunk\"\n",
    "\n",
    "\n",
    "class ResponsiblePerson:\n",
    "    def __init__(self, person):\n",
    "        self.person = person\n",
    "\n",
    "    @property\n",
    "    def age(self):\n",
    "        return self.person.age\n",
    "    \n",
    "    @age.setter\n",
    "    def age(self, value):\n",
    "        self.person.age = value\n",
    "        \n",
    "    def drink(self):\n",
    "        if self.person.age < 18:\n",
    "            return \"too young\"\n",
    "        \n",
    "        return self.person.drink()\n",
    "    \n",
    "    def drive(self):\n",
    "        if self.person.age < 16:\n",
    "            return \"too young\"\n",
    "        \n",
    "        return self.person.drive()\n",
    "    \n",
    "    def drink_and_drive(self):\n",
    "        return \"dead\""
   ]
  },
  {
   "cell_type": "code",
   "execution_count": 5,
   "metadata": {},
   "outputs": [
    {
     "name": "stdout",
     "output_type": "stream",
     "text": [
      "Person with age 18\n",
      "drinking\n",
      "driving\n",
      "dead\n",
      "Person with age 16\n",
      "too young\n",
      "driving\n",
      "dead\n"
     ]
    }
   ],
   "source": [
    "rp = ResponsiblePerson(Person(18))\n",
    "rp_young = ResponsiblePerson(Person(16))\n",
    "\n",
    "print(f\"Person with age {rp.person.age}\")\n",
    "print(rp.drink())\n",
    "print(rp.drive())\n",
    "print(rp.drink_and_drive())\n",
    "\n",
    "print(f\"Person with age {rp_young.person.age}\")\n",
    "print(rp_young.drink())\n",
    "print(rp_young.drive())\n",
    "print(rp_young.drink_and_drive())"
   ]
  },
  {
   "cell_type": "code",
   "execution_count": null,
   "metadata": {},
   "outputs": [],
   "source": []
  }
 ],
 "metadata": {
  "kernelspec": {
   "display_name": "eurovision",
   "language": "python",
   "name": "python3"
  },
  "language_info": {
   "codemirror_mode": {
    "name": "ipython",
    "version": 3
   },
   "file_extension": ".py",
   "mimetype": "text/x-python",
   "name": "python",
   "nbconvert_exporter": "python",
   "pygments_lexer": "ipython3",
   "version": "3.11.3"
  },
  "orig_nbformat": 4
 },
 "nbformat": 4,
 "nbformat_minor": 2
}
