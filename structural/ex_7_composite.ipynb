{
 "cells": [
  {
   "attachments": {},
   "cell_type": "markdown",
   "metadata": {},
   "source": [
    "Consider the code presented below. We have two classes called SingleValue and ManyValues. SingleValue stores just one numeric value, but ManyValues can store either numeric values or SingleValue objects.\n",
    "\n",
    "You are asked to give both SingleValue and ManyValues a property member called sum that returns a sum of all the values that the object contains. Please ensure that there is only a single method that realizes the property sum, not multiple methods.\n",
    "\n",
    "Here is a sample unit test:\n",
    "\n",
    "    class FirstTestSuite(unittest.TestCase):\n",
    "        def test(self):\n",
    "            single_value = SingleValue(11)\n",
    "            other_values = ManyValues()\n",
    "            other_values.append(22)\n",
    "            other_values.append(33)\n",
    "            # make a list of all values\n",
    "            all_values = ManyValues()\n",
    "            all_values.append(single_value)\n",
    "            all_values.append(other_values)\n",
    "            self.assertEqual(all_values.sum, 66)"
   ]
  },
  {
   "cell_type": "code",
   "execution_count": 71,
   "metadata": {},
   "outputs": [],
   "source": [
    "from typing import Iterator\n",
    "from abc import ABC\n",
    "from collections.abc import Iterable\n",
    "\n",
    "class Summable(Iterable, ABC):\n",
    "    @property\n",
    "    def sum(self):\n",
    "        final_value = 0\n",
    "\n",
    "        for el in self:\n",
    "            for inner in el:\n",
    "                final_value += inner\n",
    "\n",
    "        return final_value\n",
    "\n",
    "class SingleValue(Summable):\n",
    "    def __init__(self, value):\n",
    "        self.value = value\n",
    "\n",
    "    def __iter__(self) -> Iterator:\n",
    "        yield self.value\n",
    "\n",
    "class ManyValues(list, Summable):\n",
    "    pass"
   ]
  },
  {
   "cell_type": "code",
   "execution_count": 77,
   "metadata": {},
   "outputs": [],
   "source": [
    "import unittest\n",
    "\n",
    "class FirstTestSuite(unittest.TestCase):\n",
    "    def test(self):\n",
    "        single_value = SingleValue(11)\n",
    "        other_values = ManyValues()\n",
    "        other_values.append(22)\n",
    "        other_values.append(33)\n",
    "        # make a list of all values\n",
    "        all_values = ManyValues()\n",
    "        all_values.append(single_value)\n",
    "        all_values.append(other_values)\n",
    "        \n",
    "        self.assertEqual(all_values.sum, 66)\n",
    "\n",
    "FirstTestSuite().test()"
   ]
  },
  {
   "cell_type": "code",
   "execution_count": null,
   "metadata": {},
   "outputs": [],
   "source": [
    "# This will handle also ManyValues containing other ManyValues\n",
    "from typing import Any\n",
    "\n",
    "class Summable:\n",
    "    pass\n",
    "\n",
    "class SingleValue(Summable):\n",
    "    def __init__(self, value):\n",
    "        self.value = value\n",
    "        \n",
    "    @property\n",
    "    def sum(self):\n",
    "        return self.value\n",
    "\n",
    "class ManyValues(list, Summable):\n",
    "    @property\n",
    "    def sum(self):\n",
    "        final_sum = 0\n",
    "        for el in self:\n",
    "            final_sum += el.sum\n",
    "\n",
    "        return final_sum\n",
    "\n",
    "    def append(self, __object: Any) -> None:\n",
    "        if isinstance(__object, Summable):\n",
    "            return super().append(__object)\n",
    "        else:\n",
    "            return super().append(SingleValue(__object))\n"
   ]
  }
 ],
 "metadata": {
  "kernelspec": {
   "display_name": "eurovision",
   "language": "python",
   "name": "python3"
  },
  "language_info": {
   "codemirror_mode": {
    "name": "ipython",
    "version": 3
   },
   "file_extension": ".py",
   "mimetype": "text/x-python",
   "name": "python",
   "nbconvert_exporter": "python",
   "pygments_lexer": "ipython3",
   "version": "3.11.3"
  },
  "orig_nbformat": 4
 },
 "nbformat": 4,
 "nbformat_minor": 2
}
