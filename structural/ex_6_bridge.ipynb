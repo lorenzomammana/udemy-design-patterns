{
 "cells": [
  {
   "attachments": {},
   "cell_type": "markdown",
   "metadata": {},
   "source": [
    "You are given an example of an inheritance hierarchy which results in Cartesian-product duplication.\n",
    "\n",
    "Please refactor this hierarchy, giving the base class Shape  a constructor that takes an interface Renderer  defined as\n",
    "\n",
    "    class Renderer(ABC):\n",
    "        @property\n",
    "        def what_to_render_as(self):\n",
    "            return None\n",
    "\n",
    "as well as VectorRenderer  and RasterRenderer  classes. Each inheritor of the Shape  abstract class should have a constructor that takes a Renderer  such that, subsequently, each constructed object's __str__()  operates correctly, for example,\n",
    "\n",
    "str(Triangle(RasterRenderer()) # returns \"Drawing Triangle as pixels\" "
   ]
  },
  {
   "cell_type": "code",
   "execution_count": 20,
   "metadata": {},
   "outputs": [],
   "source": [
    "from abc import ABC\n",
    "\n",
    "# class Shape:\n",
    "#     def __init__(self):\n",
    "#         self.name = None\n",
    "#\n",
    "#\n",
    "# class Triangle(Shape):\n",
    "#     def __init__(self):\n",
    "#         super().__init__()\n",
    "#         self.name = 'Triangle'\n",
    "#\n",
    "#\n",
    "# class Square(Shape):\n",
    "#     def __init__(self):\n",
    "#         super().__init__()\n",
    "#         self.name = 'Square'\n",
    "#\n",
    "#\n",
    "# class VectorSquare(Square):\n",
    "#     def __str__(self):\n",
    "#         return f'Drawing {self.name} as lines'\n",
    "#\n",
    "#\n",
    "# class RasterSquare(Square):\n",
    "#     def __str__(self):\n",
    "#         return f'Drawing {self.name} as pixels'\n",
    "\n",
    "# imagine VectorTriangle and RasterTriangle are here too\n",
    "\n",
    "class Renderer(ABC):\n",
    "    @property\n",
    "    def what_to_render_as(self):\n",
    "        return None\n",
    "        \n",
    "# TODO: reimplement Shape, Square, Triangle and Renderer/VectorRenderer/RasterRenderer\n",
    "\n",
    "class Shape:\n",
    "    def __init__(self, renderer: Renderer):\n",
    "        self.name = None\n",
    "        self.renderer = renderer\n",
    "\n",
    "    def __str__(self):\n",
    "        return 'Drawing {} as {}'.format(self.name, self.renderer.what_to_render_as)\n",
    "    \n",
    "class Triangle(Shape):\n",
    "    def __init__(self, renderer: Renderer):\n",
    "        super().__init__(renderer=renderer)\n",
    "        self.name = 'Triangle'\n",
    "\n",
    "class Square(Shape):\n",
    "    def __init__(self, renderer: Renderer):\n",
    "        super().__init__(renderer=renderer)\n",
    "        self.name = 'Square'\n",
    "\n",
    "\n",
    "class VectorRenderer(Renderer):\n",
    "    @property\n",
    "    def what_to_render_as(self):\n",
    "        return \"lines\"\n",
    "    \n",
    "class RasterRenderer(Renderer):\n",
    "    @property\n",
    "    def what_to_render_as(self):\n",
    "        return \"pixels\""
   ]
  },
  {
   "cell_type": "code",
   "execution_count": 21,
   "metadata": {},
   "outputs": [
    {
     "data": {
      "text/plain": [
       "'Drawing Triangle as lines'"
      ]
     },
     "execution_count": 21,
     "metadata": {},
     "output_type": "execute_result"
    }
   ],
   "source": [
    "str(Triangle(VectorRenderer()))"
   ]
  },
  {
   "cell_type": "code",
   "execution_count": null,
   "metadata": {},
   "outputs": [],
   "source": []
  }
 ],
 "metadata": {
  "kernelspec": {
   "display_name": "eurovision",
   "language": "python",
   "name": "python3"
  },
  "language_info": {
   "codemirror_mode": {
    "name": "ipython",
    "version": 3
   },
   "file_extension": ".py",
   "mimetype": "text/x-python",
   "name": "python",
   "nbconvert_exporter": "python",
   "pygments_lexer": "ipython3",
   "version": "3.11.3"
  },
  "orig_nbformat": 4
 },
 "nbformat": 4,
 "nbformat_minor": 2
}
