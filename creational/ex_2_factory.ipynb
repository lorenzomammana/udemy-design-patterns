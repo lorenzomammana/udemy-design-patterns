{
 "cells": [
  {
   "attachments": {},
   "cell_type": "markdown",
   "metadata": {},
   "source": [
    "### Factory Coding Exercise\n",
    "\n",
    "You are given a class called Person . The person has two attributes: id , and name .\n",
    "\n",
    "Please implement a  PersonFactory that has a non-static  create_person()  method that takes a person's name and return a person initialized with this name and an id.\n",
    "\n",
    "The id of the person should be set as a 0-based index of the object created. So, the first person the factory makes should have Id=0, second Id=1 and so on."
   ]
  },
  {
   "cell_type": "code",
   "execution_count": 4,
   "metadata": {},
   "outputs": [],
   "source": [
    "class Person:\n",
    "    def __init__(self, person_id: int, name: str):\n",
    "        self.id = person_id\n",
    "        self.name = name\n",
    "\n",
    "    def __str__(self):\n",
    "        return \"{} has id {}\".format(self.name.upper(), self.id)\n",
    "\n",
    "\n",
    "class PersonFactory:\n",
    "    def __init__(self):\n",
    "        self.id = 0\n",
    "\n",
    "    def create_person(self, name: str):\n",
    "        person = Person(self.id, name)\n",
    "        self.id += 1\n",
    "\n",
    "        return person"
   ]
  },
  {
   "cell_type": "code",
   "execution_count": 5,
   "metadata": {},
   "outputs": [
    {
     "name": "stdout",
     "output_type": "stream",
     "text": [
      "JOHN has id 0\n",
      "MARY has id 1\n"
     ]
    }
   ],
   "source": [
    "factory = PersonFactory()\n",
    "p1 = factory.create_person(\"John\")\n",
    "p2 = factory.create_person(\"Mary\")\n",
    "\n",
    "print(p1)\n",
    "print(p2)"
   ]
  }
 ],
 "metadata": {
  "kernelspec": {
   "display_name": "eurovision",
   "language": "python",
   "name": "python3"
  },
  "language_info": {
   "codemirror_mode": {
    "name": "ipython",
    "version": 3
   },
   "file_extension": ".py",
   "mimetype": "text/x-python",
   "name": "python",
   "nbconvert_exporter": "python",
   "pygments_lexer": "ipython3",
   "version": "3.11.3"
  },
  "orig_nbformat": 4
 },
 "nbformat": 4,
 "nbformat_minor": 2
}
