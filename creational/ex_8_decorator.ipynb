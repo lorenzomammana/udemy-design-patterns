{
 "cells": [
  {
   "attachments": {},
   "cell_type": "markdown",
   "metadata": {},
   "source": [
    "You are given two types, Circle and Square, and a decorator called ColoredShape.\n",
    "\n",
    "The decorator adds the color to the string output for a given shape, just as we did in the lecture.\n",
    "\n",
    "There's a trick though: the decorator now has a resize() method that should resize the underlying shape. However, only the Circle has a resize() method; the Square does not — do not add it!\n",
    "\n",
    "You are asked to complete the implementation of Circle, Square and ColoredShape.\n",
    "\n",
    "Here is a sample unit test that should pass:\n",
    "\n",
    "    class Evaluate(TestCase):\n",
    "      def test_circle(self):\n",
    "        circle = ColoredShape(Circle(5), 'red')\n",
    "        self.assertEqual(\n",
    "          'A circle of radius 5 has the color red',\n",
    "          str(circle)\n",
    "        )\n",
    "        circle.resize(2)\n",
    "        self.assertEqual(\n",
    "          'A circle of radius 10 has the color red',\n",
    "          str(circle)\n",
    "        )"
   ]
  },
  {
   "cell_type": "code",
   "execution_count": 24,
   "metadata": {},
   "outputs": [],
   "source": [
    "import time\n",
    "\n",
    "\n",
    "def timeit(func):\n",
    "    \"\"\"Decorator to compute the execution time of a function\"\"\"\n",
    "    def wrapper(*args, **kwargs):\n",
    "        start = time.time()\n",
    "        func(*args, **kwargs)\n",
    "        end = time.time()\n",
    "        print(\"Time taken: {:.3f} ms\".format(end - start))\n",
    "\n",
    "    return wrapper\n",
    "\n",
    "\n",
    "class Circle:\n",
    "    def __init__(self, radius):\n",
    "        self.radius = radius\n",
    "\n",
    "    def resize(self, factor):\n",
    "        self.radius *= factor\n",
    "\n",
    "    def __str__(self):\n",
    "        return \"A circle of radius {}\".format(self.radius)\n",
    "\n",
    "\n",
    "class Square:\n",
    "    def __init__(self, side):\n",
    "        self.side = side\n",
    "\n",
    "    def __str__(self):\n",
    "        return \"A square with side {}\".format(self.side)\n",
    "\n",
    "\n",
    "class ColoredShape(object):\n",
    "    def __init__(self, shape, color):\n",
    "        self.color = color\n",
    "        self.shape = shape\n",
    "\n",
    "    @timeit\n",
    "    def resize(self, factor):\n",
    "        if getattr(self.shape, \"resize\", None) is not None:\n",
    "            self.shape.resize(factor)\n",
    "        else:\n",
    "            print(\"Resizing {} is not supported\".format(self.shape.__class__.__name__))\n",
    "\n",
    "    def __str__(self):\n",
    "        return \"{} has the color {}\".format(self.shape, self.color)"
   ]
  },
  {
   "cell_type": "code",
   "execution_count": 25,
   "metadata": {},
   "outputs": [
    {
     "name": "stdout",
     "output_type": "stream",
     "text": [
      "Time taken: 0.000 ms\n"
     ]
    }
   ],
   "source": [
    "from unittest import TestCase\n",
    "\n",
    "class Evaluate(TestCase):\n",
    "    def test_circle(self):\n",
    "        circle = ColoredShape(Circle(5), 'red')\n",
    "        self.assertEqual(\n",
    "            'A circle of radius 5 has the color red',\n",
    "            str(circle)\n",
    "        )\n",
    "        circle.resize(2)\n",
    "        self.assertEqual(\n",
    "            'A circle of radius 10 has the color red',\n",
    "            str(circle)\n",
    "        )\n",
    "    \n",
    "Evaluate().test_circle()"
   ]
  },
  {
   "cell_type": "code",
   "execution_count": null,
   "metadata": {},
   "outputs": [],
   "source": []
  }
 ],
 "metadata": {
  "kernelspec": {
   "display_name": "aigord_1_4_x",
   "language": "python",
   "name": "python3"
  },
  "language_info": {
   "codemirror_mode": {
    "name": "ipython",
    "version": 3
   },
   "file_extension": ".py",
   "mimetype": "text/x-python",
   "name": "python",
   "nbconvert_exporter": "python",
   "pygments_lexer": "ipython3",
   "version": "3.9.16"
  },
  "orig_nbformat": 4
 },
 "nbformat": 4,
 "nbformat_minor": 2
}
