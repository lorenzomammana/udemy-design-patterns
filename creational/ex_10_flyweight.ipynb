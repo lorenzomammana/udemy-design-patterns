{
 "cells": [
  {
   "attachments": {},
   "cell_type": "markdown",
   "metadata": {},
   "source": [
    "You are given a class called Sentence , which takes a string such as 'hello world'. You need to provide an interface such that the indexer returns a flyweight that can be used to capitalize a particular word in the sentence.\n",
    "\n",
    "Typical use would be something like:\n",
    "\n",
    "    sentence = Sentence('hello world')\n",
    "    sentence[1].capitalize = True\n",
    "    print(sentence)  # writes \"hello WORLD\""
   ]
  },
  {
   "cell_type": "code",
   "execution_count": 29,
   "metadata": {},
   "outputs": [],
   "source": [
    "# An even more compress representation may be achieved by handling range of words\n",
    "\n",
    "class Sentence:\n",
    "    def __init__(self, plain_text):\n",
    "        self.plain_text = plain_text\n",
    "        self.word_formats = {}\n",
    "\n",
    "    def __getitem__(self, key):\n",
    "        if key in self.word_formats:\n",
    "            return self.word_formats[key]\n",
    "        \n",
    "        self.word_formats[key] = Format()\n",
    "        return self.word_formats[key]\n",
    "    \n",
    "    def __str__(self) -> str:\n",
    "        out_str = []\n",
    "        for i, word in enumerate(self.plain_text.split(\" \")):\n",
    "            if i in self.word_formats:\n",
    "                out_str.append(word.upper() if self.word_formats[i].capitalize else word)\n",
    "            else:\n",
    "                out_str.append(word)\n",
    "\n",
    "        return \" \".join(out_str)\n",
    "    \n",
    "class Format:\n",
    "    def __init__(self) -> None:\n",
    "        self.capitalize = False\n",
    "        self.italic = False\n",
    "        self.bold = False"
   ]
  },
  {
   "cell_type": "code",
   "execution_count": 30,
   "metadata": {},
   "outputs": [
    {
     "name": "stdout",
     "output_type": "stream",
     "text": [
      "hello WORLD\n"
     ]
    }
   ],
   "source": [
    "sentence = Sentence('hello world')\n",
    "sentence[1].capitalize = True\n",
    "print(sentence)  # writes \"hello WORLD\""
   ]
  },
  {
   "cell_type": "code",
   "execution_count": null,
   "metadata": {},
   "outputs": [],
   "source": []
  }
 ],
 "metadata": {
  "kernelspec": {
   "display_name": "eurovision",
   "language": "python",
   "name": "python3"
  },
  "language_info": {
   "codemirror_mode": {
    "name": "ipython",
    "version": 3
   },
   "file_extension": ".py",
   "mimetype": "text/x-python",
   "name": "python",
   "nbconvert_exporter": "python",
   "pygments_lexer": "ipython3",
   "version": "3.11.3"
  },
  "orig_nbformat": 4
 },
 "nbformat": 4,
 "nbformat_minor": 2
}
