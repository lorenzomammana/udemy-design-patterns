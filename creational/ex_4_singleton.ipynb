{
 "cells": [
  {
   "attachments": {},
   "cell_type": "markdown",
   "metadata": {},
   "source": [
    "Since implementing a singleton is easy, you have a different challenge: write a function called is_singleton(). \n",
    "\n",
    "This method takes a factory method that returns an object and it's up to you to determine whether or not that object is a singleton instance."
   ]
  },
  {
   "cell_type": "code",
   "execution_count": null,
   "metadata": {},
   "outputs": [],
   "source": [
    "def is_singleton(factory):\n",
    "    # todo: call factory() and return true or false\n",
    "    # depending on whether the factory makes a\n",
    "    # singleton or not\n",
    "    o1 = factory()\n",
    "    o2 = factory()\n",
    "        \n",
    "    return o1 is o2\n",
    "\n",
    "# Decorator example   \n",
    "def is_singleton_decorator(factory):\n",
    "    def is_singleton(*args, **kwargs):\n",
    "        o1 = factory(*args, **kwargs)\n",
    "        o2 = factory(*args, **kwargs)\n",
    "        \n",
    "        return o1 is o2\n",
    "\n",
    "    return is_singleton\n",
    "\n",
    "class Singleton(type):\n",
    "    _instances = {}\n",
    "    \n",
    "    def __call__(cls, *args, **kwargs):\n",
    "        if cls not in cls._instances:\n",
    "            cls._instances[cls] = super(Singleton, cls).__call__(*args, **kwargs)\n",
    "\n",
    "        return cls._instances[cls]\n",
    "    \n",
    "class Person:\n",
    "    def __init__(self, person_id: int, name: str):\n",
    "        self.id = person_id\n",
    "        self.name = name\n",
    "\n",
    "    def __str__(self):\n",
    "        return \"{} has id {}\".format(self.name.upper(), self.id)\n",
    "\n",
    "class PersonSingleton(metaclass=Singleton):\n",
    "    def __init__(self, person_id: int, name: str):\n",
    "        self.id = person_id\n",
    "        self.name = name\n",
    "\n",
    "    def __str__(self):\n",
    "        return \"{} has id {}\".format(self.name.upper(), self.id)\n",
    "    \n",
    "class PersonFactory:\n",
    "    def __init__(self):\n",
    "        self.id = 0\n",
    "\n",
    "    def create_person(self):\n",
    "        person = Person(self.id, name=\"Person\")\n",
    "        self.id += 1\n",
    "\n",
    "        return person\n",
    "\n",
    "\n",
    "class PersonSingletonFactory:\n",
    "    def __init__(self):\n",
    "        self.id = 0\n",
    "        \n",
    "    def create_person(self):\n",
    "        person = PersonSingleton(self.id, name=\"Person\")\n",
    "        self.id += 1\n",
    "        return person"
   ]
  },
  {
   "cell_type": "code",
   "execution_count": 106,
   "metadata": {},
   "outputs": [
    {
     "name": "stdout",
     "output_type": "stream",
     "text": [
      "False\n",
      "True\n"
     ]
    }
   ],
   "source": [
    "person_factory = PersonFactory()\n",
    "person_singleton_factory = PersonSingletonFactory()\n",
    "\n",
    "print(is_singleton(person_factory.create_person))\n",
    "print(is_singleton(person_singleton_factory.create_person))"
   ]
  }
 ],
 "metadata": {
  "kernelspec": {
   "display_name": "aigord_1_4_x",
   "language": "python",
   "name": "python3"
  },
  "language_info": {
   "codemirror_mode": {
    "name": "ipython",
    "version": 3
   },
   "file_extension": ".py",
   "mimetype": "text/x-python",
   "name": "python",
   "nbconvert_exporter": "python",
   "pygments_lexer": "ipython3",
   "version": "3.9.16"
  },
  "orig_nbformat": 4
 },
 "nbformat": 4,
 "nbformat_minor": 2
}
