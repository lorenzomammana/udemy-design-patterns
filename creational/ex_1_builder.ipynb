{
 "cells": [
  {
   "attachments": {},
   "cell_type": "markdown",
   "metadata": {},
   "source": [
    "You are asked to implement the Builder design pattern for rendering simple chunks of code.\n",
    "\n",
    "Sample use of the builder you are asked to create:\n",
    "\n",
    "```\n",
    "    cb = CodeBuilder('Person').add_field('name', '\"\"') \\\n",
    "                              .add_field('age', '0')\n",
    "    print(cb)\n",
    "```\n",
    "\n",
    "The expected output of the above code is:\n",
    "```\n",
    "    class Person:\n",
    "      def __init__(self):\n",
    "        self.name = \"\"\n",
    "        self.age = 0\n",
    "```\n",
    "\n",
    "Please observe the same placement of spaces and indentation."
   ]
  },
  {
   "cell_type": "code",
   "execution_count": 2,
   "metadata": {},
   "outputs": [],
   "source": [
    "class ClassElement:\n",
    "    def __init__(self, name: str):\n",
    "        self.name = name\n",
    "        self.fields = []\n",
    "\n",
    "    def __str__(self):\n",
    "        final_string = \"class {}:\\n\".format(self.name.capitalize())\n",
    "\n",
    "        if len(self.fields) == 0:\n",
    "            final_string += \"  pass\\n\"\n",
    "            return final_string\n",
    "\n",
    "        final_string += \"  def __init__(self):\\n\"\n",
    "\n",
    "        for field in self.fields:\n",
    "            final_string += str(field)\n",
    "\n",
    "        return final_string\n",
    "\n",
    "\n",
    "class FieldElement:\n",
    "    def __init__(self, name: str, value):\n",
    "        self.name = name\n",
    "        self.value = value\n",
    "\n",
    "    def __str__(self):\n",
    "        return \"    self.{} = {}\\n\".format(self.name, self.value)\n",
    "\n",
    "\n",
    "class CodeBuilder:\n",
    "    def __init__(self, root_name):\n",
    "        self.root_name = root_name\n",
    "        self.root = ClassElement(root_name)\n",
    "\n",
    "    def add_field(self, name, value):\n",
    "        # todo\n",
    "        self.root.fields.append(FieldElement(name, value))\n",
    "\n",
    "        return self\n",
    "\n",
    "    def __str__(self):\n",
    "        return str(self.root)"
   ]
  },
  {
   "cell_type": "code",
   "execution_count": 3,
   "metadata": {},
   "outputs": [
    {
     "name": "stdout",
     "output_type": "stream",
     "text": [
      "class Person:\n",
      "  def __init__(self):\n",
      "    self.name = \"\"\n",
      "    self.age = 0\n",
      "\n"
     ]
    }
   ],
   "source": [
    "cb = CodeBuilder(\"Person\").add_field(\"name\", '\"\"').add_field(\"age\", \"0\")\n",
    "print(cb)"
   ]
  },
  {
   "cell_type": "code",
   "execution_count": null,
   "metadata": {},
   "outputs": [],
   "source": []
  }
 ],
 "metadata": {
  "kernelspec": {
   "display_name": "eurovision",
   "language": "python",
   "name": "python3"
  },
  "language_info": {
   "codemirror_mode": {
    "name": "ipython",
    "version": 3
   },
   "file_extension": ".py",
   "mimetype": "text/x-python",
   "name": "python",
   "nbconvert_exporter": "python",
   "pygments_lexer": "ipython3",
   "version": "3.11.3"
  },
  "orig_nbformat": 4
 },
 "nbformat": 4,
 "nbformat_minor": 2
}
