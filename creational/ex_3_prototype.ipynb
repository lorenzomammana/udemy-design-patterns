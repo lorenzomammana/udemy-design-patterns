{
 "cells": [
  {
   "attachments": {},
   "cell_type": "markdown",
   "metadata": {},
   "source": [
    "Given the definitions shown in code, you are asked to implement Line.deep_copy()  to perform a deep copy of the given Line  object. \n",
    "\n",
    "This method should return a copy of a Line that contains copies of its start/end points.\n",
    "\n",
    "Note: please do not confuse deep_copy() with __deepcopy__()!"
   ]
  },
  {
   "cell_type": "code",
   "execution_count": 5,
   "metadata": {},
   "outputs": [],
   "source": [
    "class Point:\n",
    "    def __init__(self, x: int = 0, y: int = 0):\n",
    "        self.x = x\n",
    "        self.y = y\n",
    "\n",
    "    def deep_copy(self) -> \"Point\":\n",
    "        copied_point = Point(self.x, self.y)\n",
    "        return copied_point\n",
    "\n",
    "    def __str__(self) -> str:\n",
    "        return \"({}, {})\".format(self.x, self.y)\n",
    "\n",
    "class Line:\n",
    "    def __init__(self, start: Point = Point(), end: Point = Point()):\n",
    "        self.start = start\n",
    "        self.end = end\n",
    "\n",
    "    def deep_copy(self) -> \"Line\":\n",
    "        copied_line = Line(self.start.deep_copy(), self.end.deep_copy())\n",
    "        return copied_line\n",
    "    \n",
    "    def __str__(self) -> str:\n",
    "        return \"Line: start = {}, end = {}\".format(self.start, self.end)"
   ]
  },
  {
   "cell_type": "code",
   "execution_count": 6,
   "metadata": {},
   "outputs": [
    {
     "name": "stdout",
     "output_type": "stream",
     "text": [
      "Line: start = (5, 2), end = (3, 4)\n",
      "Line: start = (5, 2), end = (3, 4)\n",
      "Line: start = (1, 2), end = (3, 4)\n"
     ]
    }
   ],
   "source": [
    "p1 = Point(1, 2)\n",
    "p2 =  Point(3, 4)\n",
    "\n",
    "line1 = Line(p1, p2)\n",
    "line2 = line1\n",
    "line3 = line1.deep_copy()\n",
    "\n",
    "line1.start.x = 5\n",
    "\n",
    "print(line1)\n",
    "print(line2)\n",
    "print(line3)\n"
   ]
  }
 ],
 "metadata": {
  "kernelspec": {
   "display_name": "eurovision",
   "language": "python",
   "name": "python3"
  },
  "language_info": {
   "codemirror_mode": {
    "name": "ipython",
    "version": 3
   },
   "file_extension": ".py",
   "mimetype": "text/x-python",
   "name": "python",
   "nbconvert_exporter": "python",
   "pygments_lexer": "ipython3",
   "version": "3.11.3"
  },
  "orig_nbformat": 4
 },
 "nbformat": 4,
 "nbformat_minor": 2
}
