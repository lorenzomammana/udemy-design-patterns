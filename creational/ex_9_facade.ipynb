{
 "cells": [
  {
   "attachments": {},
   "cell_type": "markdown",
   "metadata": {},
   "source": [
    "A magic square is a square matrix of numbers where the sum in each row, each column, and each of the diagonals is the same.\n",
    "\n",
    "You are given a system of 3 classes that can be used to make a magic square. The classes are:\n",
    "\n",
    "    Generator: this class generates a 1-dimensional list of random digits in range 1 to 9.\n",
    "\n",
    "    Splitter: this class takes a 2D list and splits it into all possible arrangements of 1D lists. It gives you the columns, the rows and the two diagonals.\n",
    "\n",
    "    Verifier: this class takes a 2D list and verifies that the sum of elements in every sublist is the same.\n",
    "\n",
    "Please implement a Façade class called MagicSquareGenerator  which simply generates the magic square of a given size."
   ]
  },
  {
   "cell_type": "code",
   "execution_count": 10,
   "metadata": {},
   "outputs": [],
   "source": [
    "from random import randint\n",
    "\n",
    "\n",
    "class Generator:\n",
    "    def generate(self, count):\n",
    "        return [randint(1, 9) for x in range(count)]\n",
    "\n",
    "\n",
    "class Splitter:\n",
    "    def split(self, array):\n",
    "        result = []\n",
    "\n",
    "        row_count = len(array)\n",
    "        col_count = len(array[0])\n",
    "\n",
    "        for r in range(row_count):\n",
    "            the_row = []\n",
    "            for c in range(col_count):\n",
    "                the_row.append(array[r][c])\n",
    "            result.append(the_row)\n",
    "\n",
    "        for c in range(col_count):\n",
    "            the_col = []\n",
    "            for r in range(row_count):\n",
    "                the_col.append(array[r][c])\n",
    "            result.append(the_col)\n",
    "\n",
    "        diag1 = []\n",
    "        diag2 = []\n",
    "\n",
    "        for c in range(col_count):\n",
    "            for r in range(row_count):\n",
    "                if c == r:\n",
    "                    diag1.append(array[r][c])\n",
    "                r2 = row_count - r - 1\n",
    "                if c == r2:\n",
    "                    diag2.append(array[r][c])\n",
    "\n",
    "        result.append(diag1)\n",
    "        result.append(diag2)\n",
    "\n",
    "        return result\n",
    "\n",
    "\n",
    "class Verifier:\n",
    "    def verify(self, arrays):\n",
    "        first = sum(arrays[0])\n",
    "\n",
    "        for i in range(1, len(arrays)):\n",
    "            if sum(arrays[i]) != first:\n",
    "                return False\n",
    "\n",
    "        return True\n",
    "\n",
    "\n",
    "class MagicSquareGenerator:\n",
    "    def __init__(self) -> None:\n",
    "        self.generator = Generator()\n",
    "        self.splitter = Splitter()\n",
    "        self.verifier = Verifier()\n",
    "    \n",
    "    def _random_array(self, size):\n",
    "        base_array = []\n",
    "        for i in range(size):\n",
    "            base_array.append(self.generator.generate(size))\n",
    "\n",
    "        return base_array\n",
    "    \n",
    "    def generate(self, size):\n",
    "        base_array = self._random_array(size)\n",
    "        splitted_arrays = self.splitter.split(base_array)\n",
    "\n",
    "        while not self.verifier.verify(splitted_arrays):\n",
    "            base_array = self._random_array(size)\n",
    "            splitted_arrays = self.splitter.split(base_array)\n",
    "\n",
    "        return base_array\n",
    "        # todo - return a magic square of the given size"
   ]
  },
  {
   "cell_type": "code",
   "execution_count": 14,
   "metadata": {},
   "outputs": [
    {
     "data": {
      "text/plain": [
       "[[2, 4, 3], [4, 3, 2], [3, 2, 4]]"
      ]
     },
     "execution_count": 14,
     "metadata": {},
     "output_type": "execute_result"
    }
   ],
   "source": [
    "MagicSquareGenerator().generate(3)"
   ]
  }
 ],
 "metadata": {
  "kernelspec": {
   "display_name": "eurovision",
   "language": "python",
   "name": "python3"
  },
  "language_info": {
   "codemirror_mode": {
    "name": "ipython",
    "version": 3
   },
   "file_extension": ".py",
   "mimetype": "text/x-python",
   "name": "python",
   "nbconvert_exporter": "python",
   "pygments_lexer": "ipython3",
   "version": "3.11.3"
  },
  "orig_nbformat": 4
 },
 "nbformat": 4,
 "nbformat_minor": 2
}
