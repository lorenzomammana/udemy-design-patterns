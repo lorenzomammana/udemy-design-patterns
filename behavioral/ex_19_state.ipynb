{
 "cells": [
  {
   "attachments": {},
   "cell_type": "markdown",
   "metadata": {},
   "source": [
    "A combination lock is a lock that opens after the right digits have been entered. A lock is preprogrammed with a combination (e.g., 12345 ) and the user is expected to enter this combination to unlock the lock.\n",
    "\n",
    "The lock has a Status field that indicates the state of the lock. The rules are:\n",
    "\n",
    "    If the lock has just been locked (or at startup), the status is LOCKED.\n",
    "\n",
    "    If a digit has been entered, that digit is shown on the screen. As the user enters more digits, they are added to Status.\n",
    "\n",
    "    If the user has entered the correct sequence of digits, the lock status changes to OPEN.\n",
    "\n",
    "    If the user enters an incorrect sequence of digits, the lock status changes to ERROR.\n",
    "\n",
    "Please implement the CombinationLock  class to enable this behavior. Be sure to test both correct and incorrect inputs.\n",
    "\n",
    "Here is an example unit test for the lock:\n",
    "\n",
    "    class FirstTestSuite(unittest.TestCase):\n",
    "        def test_success(self):\n",
    "            cl = CombinationLock([1, 2, 3, 4, 5])\n",
    "            self.assertEqual('LOCKED', cl.status)\n",
    "            cl.enter_digit(1)\n",
    "            self.assertEqual('1', cl.status)\n",
    "            cl.enter_digit(2)\n",
    "            self.assertEqual('12', cl.status)\n",
    "            cl.enter_digit(3)\n",
    "            self.assertEqual('123', cl.status)\n",
    "            cl.enter_digit(4)\n",
    "            self.assertEqual('1234', cl.status)\n",
    "            cl.enter_digit(5)\n",
    "            self.assertEqual('OPEN', cl.status)"
   ]
  },
  {
   "cell_type": "code",
   "execution_count": 11,
   "metadata": {},
   "outputs": [
    {
     "name": "stderr",
     "output_type": "stream",
     "text": [
      "C:\\Users\\mamma_q2hsvxw\\AppData\\Local\\Temp\\ipykernel_8076\\2606152013.py:6: DeprecationWarning: In 3.13 the default `auto()`/`_generate_next_value_` will require all values to be sortable and support adding +1\n",
      "and the value returned will be the largest value in the enum incremented by 1\n",
      "  OPEN = auto()\n",
      "C:\\Users\\mamma_q2hsvxw\\AppData\\Local\\Temp\\ipykernel_8076\\2606152013.py:7: DeprecationWarning: In 3.13 the default `auto()`/`_generate_next_value_` will require all values to be sortable and support adding +1\n",
      "and the value returned will be the largest value in the enum incremented by 1\n",
      "  ERROR = auto()\n"
     ]
    }
   ],
   "source": [
    "from typing import List\n",
    "from enum import Enum\n",
    "\n",
    "class CombinationState(Enum):\n",
    "    LOCKED = 1\n",
    "    OPEN = 2\n",
    "    ERROR = 3\n",
    "\n",
    "class CombinationLock:\n",
    "    def __init__(self, combination: List[int]) -> None:\n",
    "        self.combination = \"\".join([str(x) for x in combination])\n",
    "        self.state = CombinationState.LOCKED\n",
    "        self.status = self.state.name\n",
    "\n",
    "    def enter_digit(self, digit: int):\n",
    "        if self.state == CombinationState.LOCKED:\n",
    "            if self.status == \"LOCKED\":\n",
    "                self.status = \"\"\n",
    "\n",
    "            self.status += str(digit)\n",
    "\n",
    "            if self.combination == self.status:\n",
    "                self.state = CombinationState.OPEN\n",
    "                self.status = self.state.name\n",
    "                print(\"You unlocked the locker!\")\n",
    "            elif not self.combination.startswith(self.status):\n",
    "                self.state = CombinationState.ERROR\n",
    "                self.status = self.state.name\n",
    "                print(\"Wrong code inserted\")\n",
    "        elif self.state == CombinationState.OPEN:\n",
    "            self.status = self.state.name\n",
    "            print(\"The lock is already opened\")\n",
    "        else:\n",
    "            print(\"Cleaning the wrong code\")\n",
    "            self.state = CombinationState.LOCKED\n",
    "            self.status = \"\""
   ]
  },
  {
   "cell_type": "code",
   "execution_count": 12,
   "metadata": {},
   "outputs": [
    {
     "name": "stdout",
     "output_type": "stream",
     "text": [
      "You unlocked the locker!\n"
     ]
    }
   ],
   "source": [
    "import unittest\n",
    "\n",
    "class FirstTestSuite(unittest.TestCase):\n",
    "    def test_success(self):\n",
    "        cl = CombinationLock([1, 2, 3, 4, 5])\n",
    "        self.assertEqual('LOCKED', cl.status)\n",
    "        cl.enter_digit(1)\n",
    "        self.assertEqual('1', cl.status)\n",
    "        cl.enter_digit(2)\n",
    "        self.assertEqual('12', cl.status)\n",
    "        cl.enter_digit(3)\n",
    "        self.assertEqual('123', cl.status)\n",
    "        cl.enter_digit(4)\n",
    "        self.assertEqual('1234', cl.status)\n",
    "        cl.enter_digit(5)\n",
    "        self.assertEqual('OPEN', cl.status)\n",
    "\n",
    "FirstTestSuite().test_success()"
   ]
  }
 ],
 "metadata": {
  "kernelspec": {
   "display_name": "eurovision",
   "language": "python",
   "name": "python3"
  },
  "language_info": {
   "codemirror_mode": {
    "name": "ipython",
    "version": 3
   },
   "file_extension": ".py",
   "mimetype": "text/x-python",
   "name": "python",
   "nbconvert_exporter": "python",
   "pygments_lexer": "ipython3",
   "version": "3.11.3"
  },
  "orig_nbformat": 4
 },
 "nbformat": 4,
 "nbformat_minor": 2
}
