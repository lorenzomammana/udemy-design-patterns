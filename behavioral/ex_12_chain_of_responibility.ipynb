{
 "cells": [
  {
   "attachments": {},
   "cell_type": "markdown",
   "metadata": {},
   "source": [
    "You are given a game scenario with classes Goblin and GoblinKing. Please implement the following rules:\n",
    "\n",
    "    A goblin has base 1 attack/1 defense (1/1), a goblin king is 3/3.\n",
    "\n",
    "    When the Goblin King is in play, every other goblin gets +1 Attack.\n",
    "\n",
    "    Goblins get +1 to Defense for every other Goblin in play (a GoblinKing is a Goblin!).\n",
    "\n",
    "Example:\n",
    "\n",
    "    Suppose you have 3 ordinary goblins in play. Each one is a 1/3 (1/1 + 0/2 defense bonus).\n",
    "\n",
    "    A goblin king comes into play. Now every goblin is a 2/4 (1/1 + 0/3 defense bonus from each other + 1/0 from goblin king)\n",
    "\n",
    "The state of all the goblins has to be consistent as goblins are added and removed from the game.\n",
    "\n",
    "Here is an example of the kind of test that will be run on the system:\n",
    "\n",
    "    class FirstTestSuite(unittest.TestCase):\n",
    "        def test(self):\n",
    "            game = Game()\n",
    "            goblin = Goblin(game)\n",
    "            game.creatures.append(goblin)\n",
    "     \n",
    "            self.assertEqual(1, goblin.attack)\n",
    "            self.assertEqual(1, goblin.defense)\n",
    "\n",
    "Note: creature removal (unsubscription) does not need to be implemented."
   ]
  },
  {
   "cell_type": "code",
   "execution_count": 27,
   "metadata": {},
   "outputs": [],
   "source": [
    "from abc import ABC\n",
    "from typing import Any\n",
    "from enum import Enum\n",
    "\n",
    "class WhatToQuery(Enum):\n",
    "    ATTACK = 1\n",
    "    DEFENSE = 2\n",
    "\n",
    "class Query:\n",
    "    def __init__(self, initial_value: int, what_to_query: WhatToQuery):\n",
    "        self.value = initial_value\n",
    "        self.what_to_query = what_to_query\n",
    "\n",
    "class Creature(ABC):\n",
    "    def __init__(self, game: \"Game\", attack: int, defense: int):\n",
    "        self.game = game\n",
    "        self.base_attack = attack\n",
    "        self.base_defense = defense\n",
    "\n",
    "    def query(sender: \"Creature\", query: Query):\n",
    "        pass\n",
    "\n",
    "    def __str__(self) -> str:\n",
    "        return \"{} is a ({}/{})\".format(type(self).__name__, self.attack, self.defense)\n",
    "    \n",
    "class Goblin(Creature):\n",
    "    def __init__(self, game, attack=1, defense=1):\n",
    "        super().__init__(game, attack, defense)\n",
    "\n",
    "    @property\n",
    "    def attack(self):\n",
    "        query = Query(self.base_attack, WhatToQuery.ATTACK)\n",
    "\n",
    "        for creature in self.game.creatures:\n",
    "            creature.query(self, query)\n",
    "\n",
    "        return query.value\n",
    "\n",
    "    @property\n",
    "    def defense(self):\n",
    "        query = Query(self.base_attack, WhatToQuery.DEFENSE)\n",
    "\n",
    "        for creature in self.game.creatures:\n",
    "            creature.query(self, query)\n",
    "\n",
    "        return query.value\n",
    "    \n",
    "    def query(self, sender: Creature, query: Query):\n",
    "        if isinstance(sender, Goblin) and self is not sender and query.what_to_query == WhatToQuery.DEFENSE:\n",
    "            query.value += 1\n",
    "\n",
    "\n",
    "class GoblinKing(Goblin):\n",
    "    def __init__(self, game, attack=3, defense=3):\n",
    "        super().__init__(game, attack, defense)\n",
    "\n",
    "    def query(self, sender: Creature, query: Query):\n",
    "        if isinstance(sender, Goblin) and self is not sender and WhatToQuery.ATTACK:\n",
    "            query.value += 1\n",
    "        else:\n",
    "            super().query(sender, query)\n",
    "    \n",
    "\n",
    "class Game:\n",
    "    def __init__(self):\n",
    "        self.creatures = []"
   ]
  },
  {
   "cell_type": "code",
   "execution_count": 28,
   "metadata": {},
   "outputs": [
    {
     "name": "stdout",
     "output_type": "stream",
     "text": [
      "Goblin is a (2/4)\n",
      "Goblin is a (2/4)\n",
      "Goblin is a (2/4)\n",
      "GoblinKing is a (3/6)\n"
     ]
    }
   ],
   "source": [
    "game = Game()\n",
    "game.creatures.append(Goblin(game))\n",
    "game.creatures.append(Goblin(game))\n",
    "game.creatures.append(Goblin(game))\n",
    "game.creatures.append(GoblinKing(game))\n",
    "\n",
    "for c in game.creatures:\n",
    "    print(c)"
   ]
  },
  {
   "cell_type": "code",
   "execution_count": null,
   "metadata": {},
   "outputs": [],
   "source": []
  }
 ],
 "metadata": {
  "kernelspec": {
   "display_name": "eurovision",
   "language": "python",
   "name": "python3"
  },
  "language_info": {
   "codemirror_mode": {
    "name": "ipython",
    "version": 3
   },
   "file_extension": ".py",
   "mimetype": "text/x-python",
   "name": "python",
   "nbconvert_exporter": "python",
   "pygments_lexer": "ipython3",
   "version": "3.11.3"
  },
  "orig_nbformat": 4
 },
 "nbformat": 4,
 "nbformat_minor": 2
}
