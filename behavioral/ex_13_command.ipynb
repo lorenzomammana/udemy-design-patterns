{
 "cells": [
  {
   "attachments": {},
   "cell_type": "markdown",
   "metadata": {},
   "source": [
    "Implement the Account.process()  method to process different account commands.\n",
    "\n",
    "The rules are obvious:\n",
    "\n",
    "    success indicates whether the operation was successful\n",
    "\n",
    "    You can only withdraw money if you have enough in your account"
   ]
  },
  {
   "cell_type": "code",
   "execution_count": 7,
   "metadata": {},
   "outputs": [],
   "source": [
    "from enum import Enum\n",
    "\n",
    "class Command:\n",
    "    class Action(Enum):\n",
    "        DEPOSIT = 0\n",
    "        WITHDRAW = 1\n",
    "\n",
    "    def __init__(self, action, amount):\n",
    "        self.action = action\n",
    "        self.amount = amount\n",
    "        self.success = False\n",
    "        \n",
    "class Account:\n",
    "    def __init__(self, balance=0):\n",
    "        self.balance = balance\n",
    "\n",
    "    def process(self, command):\n",
    "        if command.action == Command.Action.WITHDRAW:\n",
    "            if self.balance - command.amount >= 0:\n",
    "                self.balance -= command.amount\n",
    "                command.success = True\n",
    "            else:\n",
    "                command.success = False\n",
    "        else:\n",
    "            self.balance += command.amount\n",
    "            command.success = True\n",
    "\n",
    "    def __str__(self) -> str:\n",
    "        return \"There are {} € on this account\".format(self.balance)"
   ]
  },
  {
   "cell_type": "code",
   "execution_count": 8,
   "metadata": {},
   "outputs": [
    {
     "name": "stdout",
     "output_type": "stream",
     "text": [
      "There are 100 € on this account\n",
      "There are 22 € on this account\n",
      "There are 44 € on this account\n"
     ]
    }
   ],
   "source": [
    "a = Account(100)\n",
    "\n",
    "invalid_command = Command(Command.Action.WITHDRAW, 200)\n",
    "a.process(invalid_command)\n",
    "print(a)\n",
    "\n",
    "valid_withdraw = Command(Command.Action.WITHDRAW, 78)\n",
    "a.process(valid_withdraw)\n",
    "print(a)\n",
    "\n",
    "valid_deposit = Command(Command.Action.DEPOSIT, 22)\n",
    "a.process(valid_deposit)\n",
    "print(a)"
   ]
  },
  {
   "cell_type": "code",
   "execution_count": null,
   "metadata": {},
   "outputs": [],
   "source": []
  }
 ],
 "metadata": {
  "kernelspec": {
   "display_name": "eurovision",
   "language": "python",
   "name": "python3"
  },
  "language_info": {
   "codemirror_mode": {
    "name": "ipython",
    "version": 3
   },
   "file_extension": ".py",
   "mimetype": "text/x-python",
   "name": "python",
   "nbconvert_exporter": "python",
   "pygments_lexer": "ipython3",
   "version": "3.11.3"
  },
  "orig_nbformat": 4
 },
 "nbformat": 4,
 "nbformat_minor": 2
}
