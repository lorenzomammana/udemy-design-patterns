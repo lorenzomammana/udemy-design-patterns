{
 "cells": [
  {
   "attachments": {},
   "cell_type": "markdown",
   "metadata": {},
   "source": [
    "Our system has any number of instances of Participant  classes. Each Participant has a value integer attribute, initially zero.\n",
    "\n",
    "A participant can say()  a particular value, which is broadcast to all other participants. At this point in time, every other participant is obliged to increase their value  by the value being broadcast.\n",
    "\n",
    "Example:\n",
    "\n",
    "    Two participants start with values 0 and 0 respectively\n",
    "\n",
    "    Participant 1 broadcasts the value 3. We now have Participant 1 value = 0, Participant 2 value = 3\n",
    "\n",
    "    Participant 2 broadcasts the value 2. We now have Participant 1 value = 2, Participant 2 value = 3"
   ]
  },
  {
   "cell_type": "code",
   "execution_count": 1,
   "metadata": {},
   "outputs": [],
   "source": [
    "class Mediator:\n",
    "    def __init__(self) -> None:\n",
    "        self.participants = []\n",
    "    \n",
    "    def broadcast(self, sender, value):\n",
    "        for p in self.participants:\n",
    "            if p is sender:\n",
    "                continue\n",
    "\n",
    "            p.update_value(value)\n",
    "\n",
    "class Participant:\n",
    "    def __init__(self, mediator: Mediator):\n",
    "        self.value = 0\n",
    "        self.mediator = mediator\n",
    "        self.mediator.participants.append(self)\n",
    "\n",
    "    def say(self, value):\n",
    "        self.mediator.broadcast(self, value)\n",
    "    \n",
    "    def update_value(self, value):\n",
    "        self.value += value"
   ]
  },
  {
   "cell_type": "code",
   "execution_count": 2,
   "metadata": {},
   "outputs": [
    {
     "name": "stdout",
     "output_type": "stream",
     "text": [
      "p1 has value: 5\n",
      "p2 has value: 3\n"
     ]
    }
   ],
   "source": [
    "m = Mediator()\n",
    "p1 = Participant(m)\n",
    "p2 = Participant(m)\n",
    "\n",
    "p1.say(3)\n",
    "p2.say(5)\n",
    "\n",
    "print(\"p1 has value: {}\".format(p1.value))\n",
    "print(\"p2 has value: {}\".format(p2.value))"
   ]
  },
  {
   "cell_type": "code",
   "execution_count": null,
   "metadata": {},
   "outputs": [],
   "source": []
  }
 ],
 "metadata": {
  "kernelspec": {
   "display_name": "eurovision",
   "language": "python",
   "name": "python3"
  },
  "language_info": {
   "codemirror_mode": {
    "name": "ipython",
    "version": 3
   },
   "file_extension": ".py",
   "mimetype": "text/x-python",
   "name": "python",
   "nbconvert_exporter": "python",
   "pygments_lexer": "ipython3",
   "version": "3.11.3"
  },
  "orig_nbformat": 4
 },
 "nbformat": 4,
 "nbformat_minor": 2
}
