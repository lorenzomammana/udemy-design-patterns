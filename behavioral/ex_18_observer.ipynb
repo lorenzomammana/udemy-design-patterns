{
 "cells": [
  {
   "attachments": {},
   "cell_type": "markdown",
   "metadata": {},
   "source": [
    "Imagine a game where one or more rats can attack a player. Each individual rat has an initial attack value of 1. However, rats attack as a swarm, so each rat's attack value is actually equal to the total number of rats in play.\n",
    "\n",
    "Given that a rat enters play through the initializer and leaves play (dies) via its __exit__ method, please implement the Game and Rat classes so that, at any point in the game, the Attack value of a rat is always consistent.\n",
    "\n",
    "Here's a sample unit test your code should pass:\n",
    "\n",
    "    def test_three_rats_one_dies(self):\n",
    "        game = Game()\n",
    "     \n",
    "        rat = Rat(game)\n",
    "        self.assertEqual(1, rat.attack)\n",
    "     \n",
    "        rat2 = Rat(game)\n",
    "        self.assertEqual(2, rat.attack)\n",
    "        self.assertEqual(2, rat2.attack)\n",
    "     \n",
    "        with Rat(game) as rat3:\n",
    "            self.assertEqual(3, rat.attack)\n",
    "            self.assertEqual(3, rat2.attack)\n",
    "            self.assertEqual(3, rat3.attack)\n",
    "     \n",
    "        self.assertEqual(2, rat.attack)\n",
    "        self.assertEqual(2, rat2.attack)"
   ]
  },
  {
   "cell_type": "code",
   "execution_count": 34,
   "metadata": {},
   "outputs": [],
   "source": [
    "from typing import Any\n",
    "\n",
    "\n",
    "class Event(list):\n",
    "    def __call__(self, *args: Any, **kwargs: Any) -> Any:\n",
    "        for e in self:\n",
    "            e(*args, **kwargs)\n",
    "    \n",
    "class Game:\n",
    "    def __init__(self):\n",
    "        self.alive_rats = Event()\n",
    "        self.notify_rats = Event()\n",
    "        self.dead_rats = Event()\n",
    "\n",
    "    def new_rat(self, rat):\n",
    "        self.alive_rats(rat)\n",
    "\n",
    "    def dead_rat(self):\n",
    "        self.dead_rats()\n",
    "\n",
    "    def notify_rat(self, rat):\n",
    "        self.notify_rats(rat)\n",
    "\n",
    "class Rat:\n",
    "    def __init__(self, game: Game):\n",
    "        self.game = game\n",
    "        self.attack = 1\n",
    "        self.game.alive_rats.append(self.increase_attack)\n",
    "        self.game.dead_rats.append(self.decrease_attack)\n",
    "        self.game.notify_rats.append(self.notify_rat)\n",
    "        self.game.new_rat(self)\n",
    "\n",
    "    def increase_attack(self, sender):\n",
    "        if sender is not self:\n",
    "            self.attack += 1\n",
    "            self.game.notify_rat(sender)\n",
    "    \n",
    "    def decrease_attack(self):\n",
    "        self.attack -= 1\n",
    "\n",
    "    def notify_rat(self, sender):\n",
    "        if sender is self:\n",
    "            self.attack += 1\n",
    "\n",
    "    def __enter__(self):\n",
    "        return self\n",
    "    \n",
    "    def __exit__(self, *args, **kwargs):\n",
    "        self.game.dead_rat()"
   ]
  },
  {
   "cell_type": "code",
   "execution_count": 35,
   "metadata": {},
   "outputs": [
    {
     "name": "stdout",
     "output_type": "stream",
     "text": [
      "2\n",
      "4\n",
      "3\n"
     ]
    }
   ],
   "source": [
    "game = Game()\n",
    "r1 = Rat(game)\n",
    "r2 = Rat(game)\n",
    "print(r2.attack)\n",
    "r3 = Rat(game)\n",
    "\n",
    "with Rat(game) as r4:\n",
    "    print(r1.attack)\n",
    "\n",
    "print(r1.attack)"
   ]
  },
  {
   "cell_type": "code",
   "execution_count": 36,
   "metadata": {},
   "outputs": [],
   "source": [
    "from unittest import TestCase\n",
    "\n",
    "class Tests(TestCase):\n",
    "    def test_three_rats_one_dies(self):\n",
    "        game = Game()\n",
    "\n",
    "        rat = Rat(game)\n",
    "        self.assertEqual(1, rat.attack)\n",
    "\n",
    "        rat2 = Rat(game)\n",
    "        self.assertEqual(2, rat.attack)\n",
    "        self.assertEqual(2, rat2.attack)\n",
    "\n",
    "        with Rat(game) as rat3:\n",
    "            self.assertEqual(3, rat.attack)\n",
    "            self.assertEqual(3, rat2.attack)\n",
    "            self.assertEqual(3, rat3.attack)\n",
    "\n",
    "        self.assertEqual(2, rat.attack)\n",
    "        self.assertEqual(2, rat2.attack)\n",
    "\n",
    "t = Tests()\n",
    "t.test_three_rats_one_dies()"
   ]
  },
  {
   "cell_type": "code",
   "execution_count": null,
   "metadata": {},
   "outputs": [],
   "source": []
  }
 ],
 "metadata": {
  "kernelspec": {
   "display_name": "eurovision",
   "language": "python",
   "name": "python3"
  },
  "language_info": {
   "codemirror_mode": {
    "name": "ipython",
    "version": 3
   },
   "file_extension": ".py",
   "mimetype": "text/x-python",
   "name": "python",
   "nbconvert_exporter": "python",
   "pygments_lexer": "ipython3",
   "version": "3.11.3"
  },
  "orig_nbformat": 4
 },
 "nbformat": 4,
 "nbformat_minor": 2
}
