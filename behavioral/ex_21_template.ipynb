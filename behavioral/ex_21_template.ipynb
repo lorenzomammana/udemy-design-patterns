{
 "cells": [
  {
   "attachments": {},
   "cell_type": "markdown",
   "metadata": {},
   "source": [
    "Imagine a typical collectible card game which has cards representing creatures. Each creature has two values: Attack and Health. Creatures can fight each other, dealing their Attack damage, thereby reducing their opponent's health.\n",
    "\n",
    "The class CardGame implements the logic for two creatures fighting one another. However, the exact mechanics of how damage is dealt is different:\n",
    "\n",
    "    TemporaryCardDamage : In some games (e.g., Magic: the Gathering), unless the creature has been killed, its health returns to the original value at the end of combat.\n",
    "\n",
    "    PermanentCardDamage : In other games (e.g., Hearthstone), health damage persists.\n",
    "\n",
    "You are asked to implement classes TemporaryCardDamageGame  and PermanentCardDamageGame  that would allow us to simulate combat between creatures.\n",
    "\n",
    "Some examples:\n",
    "\n",
    "    With temporary damage, creatures 1/2 and 1/3 can never kill one another. With permanent damage, second creature will win after 2 rounds of combat.\n",
    "\n",
    "    With either temporary or permanent damage, two 2/2 creatures kill one another."
   ]
  },
  {
   "cell_type": "code",
   "execution_count": 12,
   "metadata": {},
   "outputs": [],
   "source": [
    "from abc import ABC\n",
    "\n",
    "from typing import List\n",
    "\n",
    "class Creature:\n",
    "    def __init__(self, attack, health):\n",
    "        self.health = health\n",
    "        self.attack = attack\n",
    "\n",
    "class CardGame(ABC):\n",
    "    def __init__(self, creatures):\n",
    "        self.creatures: List[Creature] = creatures\n",
    "\n",
    "    # return -1 if both creatures alive or both dead after combat\n",
    "    # otherwise, return the _index_ of winning creature\n",
    "    def combat(self, c1_index, c2_index):\n",
    "        self.hit(self.creatures[c1_index], self.creatures[c2_index])\n",
    "\n",
    "        if self.creatures[c1_index].health == 0 and self.creatures[c2_index].health == 0:\n",
    "            return -1\n",
    "        elif self.creatures[c1_index].health == 0:\n",
    "            return c2_index\n",
    "        elif self.creatures[c2_index].health == 0:\n",
    "            return c1_index\n",
    "        \n",
    "        return -1\n",
    "\n",
    "    def hit(self, attacker: Creature, defender: Creature):\n",
    "        pass  # implement this in derived classes\n",
    "\n",
    "    def __str__(self) -> str:\n",
    "        final_str = \"\"\n",
    "        for i, creature in enumerate(self.creatures):\n",
    "            final_str += \"{}: ({}/{})\\n\".format(i, creature.attack, creature.health)\n",
    "\n",
    "        return final_str\n",
    "\n",
    "class TemporaryDamageCardGame(CardGame):\n",
    "    def hit(self, attacker: Creature, defender: Creature):\n",
    "        if attacker.attack >= defender.health:\n",
    "            defender.health = 0\n",
    "\n",
    "        if defender.attack >= attacker.health:\n",
    "            attacker.health = 0\n",
    "\n",
    "class PermanentDamageCardGame(CardGame):\n",
    "    def hit(self, attacker: Creature, defender: Creature):\n",
    "        attacker.health -= defender.attack\n",
    "        defender.health -= attacker.attack"
   ]
  },
  {
   "cell_type": "code",
   "execution_count": 13,
   "metadata": {},
   "outputs": [
    {
     "name": "stdout",
     "output_type": "stream",
     "text": [
      "-1\n",
      "0: (5/4)\n",
      "1: (3/8)\n",
      "\n",
      "-1\n",
      "0: (5/1)\n",
      "1: (3/3)\n",
      "\n"
     ]
    }
   ],
   "source": [
    "creatures = [Creature(5, 4), Creature(3, 8)]\n",
    "\n",
    "magic = TemporaryDamageCardGame(creatures)\n",
    "combat_result = magic.combat(0, 1)\n",
    "print(combat_result)\n",
    "print(magic)\n",
    "\n",
    "hs = PermanentDamageCardGame(creatures)\n",
    "combat_result = hs.combat(0, 1)\n",
    "print(combat_result)\n",
    "print(hs)"
   ]
  }
 ],
 "metadata": {
  "kernelspec": {
   "display_name": "eurovision",
   "language": "python",
   "name": "python3"
  },
  "language_info": {
   "codemirror_mode": {
    "name": "ipython",
    "version": 3
   },
   "file_extension": ".py",
   "mimetype": "text/x-python",
   "name": "python",
   "nbconvert_exporter": "python",
   "pygments_lexer": "ipython3",
   "version": "3.11.3"
  },
  "orig_nbformat": 4
 },
 "nbformat": 4,
 "nbformat_minor": 2
}
