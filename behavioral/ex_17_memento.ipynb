{
 "cells": [
  {
   "attachments": {},
   "cell_type": "markdown",
   "metadata": {},
   "source": [
    "A TokenMachine  is in charge of keeping tokens. Each Token  is a reference type with a single numerical value. The machine supports adding tokens and, when it does, it returns a memento representing the state of that system at that given time.\n",
    "\n",
    "You are asked to fill in the gaps and implement the Memento design pattern for this scenario. Pay close attention to the situation where a token is fed in as a reference and its value is subsequently changed on that reference - you still need to return the correct system snapshot!"
   ]
  },
  {
   "cell_type": "code",
   "execution_count": 24,
   "metadata": {},
   "outputs": [],
   "source": [
    "from copy import deepcopy\n",
    "\n",
    "class Token:\n",
    "    def __init__(self, value=0):\n",
    "        self.value = value\n",
    "\n",
    "    def __str__(self) -> str:\n",
    "        return str(self.value)\n",
    "\n",
    "class Memento(list):\n",
    "    pass\n",
    "\n",
    "\n",
    "class TokenMachine:\n",
    "    def __init__(self):\n",
    "        self.tokens = []\n",
    "\n",
    "    def add_token_value(self, value):\n",
    "        return self.add_token(Token(value))\n",
    "\n",
    "    def add_token(self, token):\n",
    "        self.tokens.append(token)\n",
    "        m = Memento()\n",
    "\n",
    "        for token in self.tokens:\n",
    "            m.append(deepcopy(token))\n",
    "\n",
    "        return m\n",
    "\n",
    "    def revert(self, memento):\n",
    "        self.tokens = [deepcopy(m) for m in memento]\n",
    "\n",
    "    def __str__(self) -> str:\n",
    "        return \" \".join(map(str, self.tokens))"
   ]
  },
  {
   "cell_type": "code",
   "execution_count": 27,
   "metadata": {},
   "outputs": [
    {
     "name": "stdout",
     "output_type": "stream",
     "text": [
      "3 5 4\n",
      "4 5 4\n",
      "3 5 4\n"
     ]
    }
   ],
   "source": [
    "token_machine = TokenMachine()\n",
    "m1 = token_machine.add_token_value(3)\n",
    "m2 = token_machine.add_token_value(5)\n",
    "m3 = token_machine.add_token_value(4)\n",
    "\n",
    "print(token_machine)\n",
    "\n",
    "token_machine.tokens[0].value = 4\n",
    "\n",
    "print(token_machine)\n",
    "\n",
    "token_machine.revert(m3)\n",
    "\n",
    "print(token_machine)"
   ]
  }
 ],
 "metadata": {
  "kernelspec": {
   "display_name": "eurovision",
   "language": "python",
   "name": "python3"
  },
  "language_info": {
   "codemirror_mode": {
    "name": "ipython",
    "version": 3
   },
   "file_extension": ".py",
   "mimetype": "text/x-python",
   "name": "python",
   "nbconvert_exporter": "python",
   "pygments_lexer": "ipython3",
   "version": "3.11.3"
  },
  "orig_nbformat": 4
 },
 "nbformat": 4,
 "nbformat_minor": 2
}
