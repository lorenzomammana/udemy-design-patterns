{
 "cells": [
  {
   "attachments": {},
   "cell_type": "markdown",
   "metadata": {},
   "source": [
    "Given the following definition of a Node , please implement preorder traversal right inside Node. The sequence returned should be the sequence of values, not their containing nodes."
   ]
  },
  {
   "cell_type": "code",
   "execution_count": 44,
   "metadata": {},
   "outputs": [],
   "source": [
    "class Node:\n",
    "    def __init__(self, value, left=None, right=None):\n",
    "        self.right = right\n",
    "        self.left = left\n",
    "        self.value = value\n",
    "\n",
    "        self.parent = None\n",
    "\n",
    "        if left:\n",
    "            self.left.parent = self\n",
    "        if right:\n",
    "            self.right.parent = self\n",
    "    \n",
    "    def traverse_preorder(self):\n",
    "        yield self.value\n",
    "\n",
    "        if self.left is not None:\n",
    "            for left_item in self.left.traverse_preorder():\n",
    "                yield left_item\n",
    "\n",
    "        if self.right is not None:\n",
    "            for right_item in self.right.traverse_preorder():\n",
    "                yield right_item"
   ]
  },
  {
   "cell_type": "code",
   "execution_count": 45,
   "metadata": {},
   "outputs": [
    {
     "name": "stdout",
     "output_type": "stream",
     "text": [
      "1 2 3\n",
      "1 2 4 5 3\n"
     ]
    }
   ],
   "source": [
    "tree = Node(1, Node(2), Node(3))\n",
    "\n",
    "print(\" \".join(map(str, tree.traverse_preorder())))\n",
    "\n",
    "two = Node(2, Node(4), Node(5))\n",
    "one = Node(1, two, Node(3))\n",
    "\n",
    "\n",
    "print(\" \".join(map(str, one.traverse_preorder())))"
   ]
  },
  {
   "cell_type": "code",
   "execution_count": 37,
   "metadata": {},
   "outputs": [
    {
     "name": "stdout",
     "output_type": "stream",
     "text": [
      "1\n",
      "2\n",
      "3\n"
     ]
    }
   ],
   "source": []
  },
  {
   "cell_type": "code",
   "execution_count": null,
   "metadata": {},
   "outputs": [],
   "source": []
  }
 ],
 "metadata": {
  "kernelspec": {
   "display_name": "eurovision",
   "language": "python",
   "name": "python3"
  },
  "language_info": {
   "codemirror_mode": {
    "name": "ipython",
    "version": 3
   },
   "file_extension": ".py",
   "mimetype": "text/x-python",
   "name": "python",
   "nbconvert_exporter": "python",
   "pygments_lexer": "ipython3",
   "version": "3.11.3"
  },
  "orig_nbformat": 4
 },
 "nbformat": 4,
 "nbformat_minor": 2
}
