{
 "cells": [
  {
   "attachments": {},
   "cell_type": "markdown",
   "metadata": {},
   "source": [
    "Consider the quadratic equation and its canonical solution:\n",
    "\n",
    "ax^2 + bx + c = 0\n",
    "\n",
    "x = (-b +- sqrt(b^2 - 4ac)) / 2a\n",
    "\n",
    "The part b^2-4*a*c is called the discriminant. Suppose we want to provide an API with two different strategies for calculating the discriminant:\n",
    "\n",
    "    In OrdinaryDiscriminantStrategy , If the discriminant is negative, we return it as-is. This is OK, since our main API returns Complex  numbers anyway.\n",
    "\n",
    "    In RealDiscriminantStrategy , if the discriminant is negative, the return value is NaN (not a number). NaN propagates throughout the calculation, so the equation solver gives two NaN values. In Python, you make such a number with float('nan').\n",
    "\n",
    "Please implement both of these strategies as well as the equation solver itself. With regards to plus-minus in the formula, please return the + result as the first element and - as the second. Note that the solve() method is expected to return complex values."
   ]
  },
  {
   "cell_type": "code",
   "execution_count": 48,
   "metadata": {},
   "outputs": [],
   "source": [
    "from abc import ABC, abstractmethod\n",
    "import cmath\n",
    "\n",
    "\n",
    "class DiscriminantStrategy(ABC):\n",
    "    @abstractmethod\n",
    "    def calculate_discriminant(self, a, b, c):\n",
    "        raise NotImplementedError()\n",
    "\n",
    "\n",
    "class OrdinaryDiscriminantStrategy(DiscriminantStrategy):\n",
    "    def calculate_discriminant(self, a, b, c):\n",
    "        return b ** 2 - 4 * a * c\n",
    "\n",
    "class RealDiscriminantStrategy(OrdinaryDiscriminantStrategy):\n",
    "    def calculate_discriminant(self, a, b, c):\n",
    "        discriminant = super().calculate_discriminant(a, b, c)\n",
    "\n",
    "        if discriminant < 0:\n",
    "            return float(\"nan\")\n",
    "        \n",
    "        return discriminant\n",
    "\n",
    "\n",
    "class QuadraticEquationSolver:\n",
    "    def __init__(self, strategy: DiscriminantStrategy):\n",
    "        self.strategy = strategy\n",
    "\n",
    "    def solve(self, a, b, c):\n",
    "        \"\"\" Returns a pair of complex (!) values \"\"\"\n",
    "        discriminant = complex(self.strategy.calculate_discriminant(a, b, c), 0)\n",
    "        discriminant = cmath.sqrt(discriminant)\n",
    "        \n",
    "        sol_1 = (-b + discriminant) / (2 * a)\n",
    "        sol_2 = (-b - discriminant) / (2 * a)\n",
    "        \n",
    "        return sol_1, sol_2"
   ]
  },
  {
   "cell_type": "code",
   "execution_count": 50,
   "metadata": {},
   "outputs": [
    {
     "data": {
      "text/plain": [
       "((-0.2+0.4j), (-0.2-0.4j))"
      ]
     },
     "execution_count": 50,
     "metadata": {},
     "output_type": "execute_result"
    }
   ],
   "source": [
    "solver = QuadraticEquationSolver(strategy=OrdinaryDiscriminantStrategy())\n",
    "\n",
    "solver.solve(5, 2, 1)"
   ]
  }
 ],
 "metadata": {
  "kernelspec": {
   "display_name": "eurovision",
   "language": "python",
   "name": "python3"
  },
  "language_info": {
   "codemirror_mode": {
    "name": "ipython",
    "version": 3
   },
   "file_extension": ".py",
   "mimetype": "text/x-python",
   "name": "python",
   "nbconvert_exporter": "python",
   "pygments_lexer": "ipython3",
   "version": "3.11.3"
  },
  "orig_nbformat": 4
 },
 "nbformat": 4,
 "nbformat_minor": 2
}
